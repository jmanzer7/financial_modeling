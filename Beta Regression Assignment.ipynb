{
 "cells": [
  {
   "cell_type": "markdown",
   "metadata": {},
   "source": [
    "# Beta Regression Example\n",
    "\n",
    "In this example, we'll use linear regression to estimate the Beta for General Electric (GE) vs. the S&P 500 using monthly data.\n",
    "\n",
    "The file \"Stock Market Data.txt\" is a tab-delimited text file containing monthly data on GE and the S&P 500 from the start of 1990 to the end of October 2018.  The columns are:     \n",
    "Column 1: The date in text, e.g, 1/1/2007.  \n",
    "Column 2: The \"adjusted\" month end closing price for the S&P 500.  \n",
    "Column 3: The \"adjusted\" month end closing price for GE.\n",
    "\n",
    "This file was created using data from Yahoo Finance.  Yahoo Finance provides \"adjusted closing prices\".  These aren't the actual closing prices on the day, but instead are back-adjusted for dividends and stock splits.  They are adjusted in such a way that you can calculate the return for a stock on a given day as:\n",
    "\n",
    "$\\large \\text{Return}=\\frac{\\text{Adj. Close}_t}{\\text{Adj. Close}_{t-1}}-1$"
   ]
  },
  {
   "cell_type": "markdown",
   "metadata": {},
   "source": [
    "### Step 1\n",
    "\n",
    "Pull the data from the \"Stock Market Data.txt\" into a Pandas Python dataframe called stocks.  You'll need to import the correct packages first.  Make sure to import pandas and the statsmodel.formula.api in addition to numpy and pyplot.  Show the first five lines of the dataframe."
   ]
  },
  {
   "cell_type": "code",
   "execution_count": null,
   "metadata": {},
   "outputs": [],
   "source": []
  },
  {
   "cell_type": "markdown",
   "metadata": {},
   "source": [
    "### Step 2\n",
    "\n",
    "Change the date column to a datetime64 and type and then set this to be a DateTime index instead of a column.  Show the .info() on the stocks dataframe."
   ]
  },
  {
   "cell_type": "code",
   "execution_count": null,
   "metadata": {},
   "outputs": [],
   "source": []
  },
  {
   "cell_type": "markdown",
   "metadata": {},
   "source": [
    "### Step 3\n",
    "\n",
    "Plot GE's adjusted close over time."
   ]
  },
  {
   "cell_type": "code",
   "execution_count": null,
   "metadata": {},
   "outputs": [],
   "source": []
  },
  {
   "cell_type": "markdown",
   "metadata": {},
   "source": [
    "### Step 4\n",
    "\n",
    "Calculate returns for the S&P 500 and for GE.  Hint:  to get the lagged (t-1) price on a column in a dataframe, you can use .shift().  For example,  \n",
    "`stocks[GE_lag]=stocks['GE_ADJ_CLOSE'].shift()`  \n",
    "will create a column of stock prices one period back.  Create columns for lagged prices for the S&P and GE prior to calculating the returns so you can take a look at how this works."
   ]
  },
  {
   "cell_type": "code",
   "execution_count": null,
   "metadata": {},
   "outputs": [],
   "source": []
  },
  {
   "cell_type": "markdown",
   "metadata": {},
   "source": [
    "Calculate the returns below."
   ]
  },
  {
   "cell_type": "code",
   "execution_count": null,
   "metadata": {},
   "outputs": [],
   "source": [
    "\n"
   ]
  },
  {
   "cell_type": "markdown",
   "metadata": {},
   "source": [
    "### Step 5\n",
    "\n",
    "Use stocks.describe() to get summary statistics on the returns."
   ]
  },
  {
   "cell_type": "code",
   "execution_count": null,
   "metadata": {},
   "outputs": [],
   "source": []
  },
  {
   "cell_type": "markdown",
   "metadata": {},
   "source": [
    "### Step 6\n",
    "\n",
    "Plot the return on GE (y-axis) vs. the return on the S&P 500 (x-axis)."
   ]
  },
  {
   "cell_type": "code",
   "execution_count": null,
   "metadata": {},
   "outputs": [],
   "source": []
  },
  {
   "cell_type": "markdown",
   "metadata": {},
   "source": [
    "### Step 7\n",
    "\n",
    "Run a linear regression of GE's return (y) vs. the SP returns (x).  Provide a basic regression summary.  What is your estimate of GE's beta with respect to the market?"
   ]
  },
  {
   "cell_type": "code",
   "execution_count": null,
   "metadata": {},
   "outputs": [],
   "source": []
  },
  {
   "cell_type": "markdown",
   "metadata": {},
   "source": [
    "### Step 7\n",
    "\n",
    "Repeat the plot above but add the regression line to the diagram."
   ]
  },
  {
   "cell_type": "code",
   "execution_count": null,
   "metadata": {},
   "outputs": [],
   "source": []
  }
 ],
 "metadata": {
  "kernelspec": {
   "display_name": "Python 3 (ipykernel)",
   "language": "python",
   "name": "python3"
  },
  "language_info": {
   "codemirror_mode": {
    "name": "ipython",
    "version": 3
   },
   "file_extension": ".py",
   "mimetype": "text/x-python",
   "name": "python",
   "nbconvert_exporter": "python",
   "pygments_lexer": "ipython3",
   "version": "3.10.9"
  }
 },
 "nbformat": 4,
 "nbformat_minor": 4
}
